{
 "cells": [
  {
   "cell_type": "code",
   "execution_count": 22,
   "metadata": {},
   "outputs": [],
   "source": [
    "# !pip install tensorflow-gpu\n"
   ]
  },
  {
   "cell_type": "code",
   "execution_count": 23,
   "metadata": {},
   "outputs": [],
   "source": [
    "import pandas as pd\n",
    "import numpy as np\n",
    "from sklearn.model_selection import train_test_split\n",
    "from sklearn.preprocessing import StandardScaler\n",
    "from sklearn.preprocessing import LabelEncoder\n",
    "import tensorflow as tf\n",
    "from tensorflow.keras.models import Sequential\n",
    "from tensorflow.keras.layers import Dense, Dropout\n",
    "from tensorflow.keras.utils import to_categorical\n",
    "from sklearn.preprocessing import LabelEncoder\n",
    "from tensorflow.keras.preprocessing.sequence import pad_sequences\n",
    "from tensorflow.keras.models import Model\n",
    "from tensorflow.keras.layers import Input, LSTM, Dense, Masking, Reshape, Dropout, BatchNormalization\n",
    "from tensorflow.keras.utils import to_categorical\n",
    "from tensorflow.keras.optimizers import Adam"
   ]
  },
  {
   "cell_type": "code",
   "execution_count": 24,
   "metadata": {},
   "outputs": [
    {
     "name": "stderr",
     "output_type": "stream",
     "text": [
      "C:\\Users\\Jean\\AppData\\Local\\Temp\\ipykernel_7352\\2595427852.py:6: DtypeWarning: Columns (3376,3377,3378,3379,3380,3381,3382,3383,3384,3385,3386,3387,3388,3389,3390,3391,3392,3393,3394,3395,3396,3397,3398,3399,3400,3401,3402,3403,3404,3405,3406,3407,3408,3409,3410,3411,3412,3413,3414,3415,3416,3417,3418,3419,3420,3421,3422,3423,3424,3425,3426,3427,3428,3429,3430,3431,3432,3433,3434,3435,3436,3437,3438,3439,3440,3441,3442) have mixed types. Specify dtype option on import or set low_memory=False.\n",
      "  test_df = pd.read_csv(test_file_path, sep=',', on_bad_lines='skip')\n"
     ]
    },
    {
     "name": "stdout",
     "output_type": "stream",
     "text": [
      "\n",
      "Train DataFrame:\n",
      "  http://eu.battle.net/sc2/en/profile/4234852/1/First/  Protoss  Base     s  \\\n",
      "0  http://eu.battle.net/sc2/en/profile/3074362/1/...    Protoss     s  Base   \n",
      "1  http://eu.battle.net/sc2/en/profile/4234852/1/...    Protoss  Base     s   \n",
      "2  http://eu.battle.net/sc2/en/profile/3074362/1/...    Protoss  Base     s   \n",
      "3  http://eu.battle.net/sc2/en/profile/4234852/1/...    Protoss  Base     s   \n",
      "4  http://eu.battle.net/sc2/en/profile/3074362/1/...    Protoss     s  Base   \n",
      "\n",
      "  s.1   s.2   s.3 s.4        t5    Base.1  ... t1650 s.671 hotkey10.62 s.672  \\\n",
      "0   s     s  Base   s         s      Base  ...   NaN   NaN         NaN   NaN   \n",
      "1   s     s  Base   s  hotkey30  hotkey00  ...   NaN   NaN         NaN   NaN   \n",
      "2   s  Base     s   s         s        t5  ...   NaN   NaN         NaN   NaN   \n",
      "3   s     s  Base   s  hotkey30  hotkey00  ...   NaN   NaN         NaN   NaN   \n",
      "4   s     s  Base   s  hotkey30         s  ...   NaN   NaN         NaN   NaN   \n",
      "\n",
      "  s.673 hotkey32.400 hotkey42.254 hotkey52.113 hotkey62.17 t1655  \n",
      "0   NaN          NaN          NaN          NaN         NaN   NaN  \n",
      "1   NaN          NaN          NaN          NaN         NaN   NaN  \n",
      "2   NaN          NaN          NaN          NaN         NaN   NaN  \n",
      "3   NaN          NaN          NaN          NaN         NaN   NaN  \n",
      "4   NaN          NaN          NaN          NaN         NaN   NaN  \n",
      "\n",
      "[5 rows x 2565 columns]\n",
      "Test DataFrame:\n",
      "      Zerg     s       s.1       s.2  hotkey10       s.3  hotkey60       s.4  \\\n",
      "0   Terran     s  hotkey30  hotkey00        t5         s  hotkey32         s   \n",
      "1     Zerg     s         s         s         s  hotkey20         s  hotkey40   \n",
      "2  Protoss  Base         s         s      Base         s  hotkey50  hotkey30   \n",
      "3  Protoss  Base         s         s         s      Base         s  hotkey30   \n",
      "4     Zerg     s         s         s  hotkey20         s  hotkey10        t5   \n",
      "\n",
      "   hotkey00       s.5  ... s.846 hotkey11.30 hotkey12.349 hotkey02.845  \\\n",
      "0  hotkey32         s  ...   NaN         NaN          NaN          NaN   \n",
      "1        t5       t10  ...   NaN         NaN          NaN          NaN   \n",
      "2        t5  hotkey40  ...   NaN         NaN          NaN          NaN   \n",
      "3  hotkey00        t5  ...   NaN         NaN          NaN          NaN   \n",
      "4         s         s  ...   NaN         NaN          NaN          NaN   \n",
      "\n",
      "  hotkey62.979 hotkey12.350 s.847 hotkey02.846 hotkey62.980 hotkey12.351  \n",
      "0          NaN          NaN   NaN          NaN          NaN          NaN  \n",
      "1          NaN          NaN   NaN          NaN          NaN          NaN  \n",
      "2          NaN          NaN   NaN          NaN          NaN          NaN  \n",
      "3          NaN          NaN   NaN          NaN          NaN          NaN  \n",
      "4          NaN          NaN   NaN          NaN          NaN          NaN  \n",
      "\n",
      "[5 rows x 3446 columns]\n"
     ]
    },
    {
     "name": "stderr",
     "output_type": "stream",
     "text": [
      "C:\\Users\\Jean\\AppData\\Local\\Temp\\ipykernel_7352\\2595427852.py:7: DtypeWarning: Columns (2559,2560,2561,2562,2563,2564) have mixed types. Specify dtype option on import or set low_memory=False.\n",
      "  train_df = pd.read_csv(train_file_path, sep=',', on_bad_lines='skip')\n"
     ]
    }
   ],
   "source": [
    "import pandas as pd\n",
    "\n",
    "test_file_path = r'C:\\Users\\Jean\\Documents\\EIGSI\\4a\\Python for datascience\\PROJET STARCRAFT\\TEST.CSV'\n",
    "train_file_path = r'C:\\Users\\Jean\\Documents\\EIGSI\\4a\\Python for datascience\\PROJET STARCRAFT\\TRAIN.CSV'\n",
    "\n",
    "test_df = pd.read_csv(test_file_path, sep=',', on_bad_lines='skip')\n",
    "train_df = pd.read_csv(train_file_path, sep=',', on_bad_lines='skip')\n",
    "print(\"\\nTrain DataFrame:\")\n",
    "print(train_df.head())\n",
    "\n",
    "print(\"Test DataFrame:\")\n",
    "print(test_df.head())\n",
    "\n",
    "\n"
   ]
  },
  {
   "cell_type": "code",
   "execution_count": 48,
   "metadata": {},
   "outputs": [
    {
     "name": "stdout",
     "output_type": "stream",
     "text": [
      "264\n"
     ]
    }
   ],
   "source": [
    "print (len(test_df))"
   ]
  },
  {
   "cell_type": "code",
   "execution_count": 25,
   "metadata": {},
   "outputs": [
    {
     "name": "stdout",
     "output_type": "stream",
     "text": [
      "\n",
      "Train DataFrame:\n",
      "                                                 nom action 1 action 2  \\\n",
      "0  http://eu.battle.net/sc2/en/profile/3074362/1/...  Protoss        s   \n",
      "1  http://eu.battle.net/sc2/en/profile/4234852/1/...  Protoss     Base   \n",
      "2  http://eu.battle.net/sc2/en/profile/3074362/1/...  Protoss     Base   \n",
      "3  http://eu.battle.net/sc2/en/profile/4234852/1/...  Protoss     Base   \n",
      "4  http://eu.battle.net/sc2/en/profile/3074362/1/...  Protoss        s   \n",
      "\n",
      "  action 3 action 4 action 5 action 6 action 7  action 8  action 9  ...  \\\n",
      "0     Base        s        s     Base        s         s      Base  ...   \n",
      "1        s        s        s     Base        s  hotkey30  hotkey00  ...   \n",
      "2        s        s     Base        s        s         s        t5  ...   \n",
      "3        s        s        s     Base        s  hotkey30  hotkey00  ...   \n",
      "4     Base        s        s     Base        s  hotkey30         s  ...   \n",
      "\n",
      "  action 2555 action 2556 action 2557 action 2558 action 2559 action 2560  \\\n",
      "0         NaN         NaN         NaN         NaN         NaN         NaN   \n",
      "1         NaN         NaN         NaN         NaN         NaN         NaN   \n",
      "2         NaN         NaN         NaN         NaN         NaN         NaN   \n",
      "3         NaN         NaN         NaN         NaN         NaN         NaN   \n",
      "4         NaN         NaN         NaN         NaN         NaN         NaN   \n",
      "\n",
      "  action 2561 action 2562 action 2563 action 2564  \n",
      "0         NaN         NaN         NaN         NaN  \n",
      "1         NaN         NaN         NaN         NaN  \n",
      "2         NaN         NaN         NaN         NaN  \n",
      "3         NaN         NaN         NaN         NaN  \n",
      "4         NaN         NaN         NaN         NaN  \n",
      "\n",
      "[5 rows x 2565 columns]\n"
     ]
    }
   ],
   "source": [
    "num_columns_test = test_df.shape[1]\n",
    "num_columns_train = train_df.shape[1]\n",
    "\n",
    "\n",
    "#on ajoute une ligne pour nommer les colonnes\n",
    "\n",
    "new_columns_test = ['nom'] + [f'action {i}' for i in range(1, num_columns_test)]\n",
    "new_columns_train = ['nom'] + [f'action {i}' for i in range(1, num_columns_train)]\n",
    "\n",
    "# Assigner les nouveaux noms de colonnes aux DataFrames\n",
    "test_df.columns = new_columns_test\n",
    "train_df.columns = new_columns_train\n",
    "\n",
    "\n",
    "\n",
    "print(\"\\nTrain DataFrame:\")\n",
    "print(train_df.head())"
   ]
  },
  {
   "cell_type": "code",
   "execution_count": 26,
   "metadata": {},
   "outputs": [
    {
     "name": "stdout",
     "output_type": "stream",
     "text": [
      "        nom action 1 action 2 action 3 action 4 action 5 action 6 action 7  \\\n",
      "0  Stardust  Protoss        s     Base        s        s     Base        s   \n",
      "1     First  Protoss     Base        s        s        s     Base        s   \n",
      "2  Stardust  Protoss     Base        s        s     Base        s        s   \n",
      "3     First  Protoss     Base        s        s        s     Base        s   \n",
      "4  Stardust  Protoss        s     Base        s        s     Base        s   \n",
      "\n",
      "   action 8  action 9  ... action 2555 action 2556 action 2557 action 2558  \\\n",
      "0         s      Base  ...         NaN         NaN         NaN         NaN   \n",
      "1  hotkey30  hotkey00  ...         NaN         NaN         NaN         NaN   \n",
      "2         s        t5  ...         NaN         NaN         NaN         NaN   \n",
      "3  hotkey30  hotkey00  ...         NaN         NaN         NaN         NaN   \n",
      "4  hotkey30         s  ...         NaN         NaN         NaN         NaN   \n",
      "\n",
      "  action 2559 action 2560 action 2561 action 2562 action 2563 action 2564  \n",
      "0         NaN         NaN         NaN         NaN         NaN         NaN  \n",
      "1         NaN         NaN         NaN         NaN         NaN         NaN  \n",
      "2         NaN         NaN         NaN         NaN         NaN         NaN  \n",
      "3         NaN         NaN         NaN         NaN         NaN         NaN  \n",
      "4         NaN         NaN         NaN         NaN         NaN         NaN  \n",
      "\n",
      "[5 rows x 2565 columns]\n",
      "       nom action 1  action 2  action 3  action 4  action 5  action 6  \\\n",
      "0   Terran        s  hotkey30  hotkey00        t5         s  hotkey32   \n",
      "1     Zerg        s         s         s         s  hotkey20         s   \n",
      "2  Protoss     Base         s         s      Base         s  hotkey50   \n",
      "3  Protoss     Base         s         s         s      Base         s   \n",
      "4     Zerg        s         s         s  hotkey20         s  hotkey10   \n",
      "\n",
      "   action 7  action 8  action 9  ... action 3436 action 3437 action 3438  \\\n",
      "0         s  hotkey32         s  ...         NaN         NaN         NaN   \n",
      "1  hotkey40        t5       t10  ...         NaN         NaN         NaN   \n",
      "2  hotkey30        t5  hotkey40  ...         NaN         NaN         NaN   \n",
      "3  hotkey30  hotkey00        t5  ...         NaN         NaN         NaN   \n",
      "4        t5         s         s  ...         NaN         NaN         NaN   \n",
      "\n",
      "  action 3439 action 3440 action 3441 action 3442 action 3443 action 3444  \\\n",
      "0         NaN         NaN         NaN         NaN         NaN         NaN   \n",
      "1         NaN         NaN         NaN         NaN         NaN         NaN   \n",
      "2         NaN         NaN         NaN         NaN         NaN         NaN   \n",
      "3         NaN         NaN         NaN         NaN         NaN         NaN   \n",
      "4         NaN         NaN         NaN         NaN         NaN         NaN   \n",
      "\n",
      "  action 3445  \n",
      "0         NaN  \n",
      "1         NaN  \n",
      "2         NaN  \n",
      "3         NaN  \n",
      "4         NaN  \n",
      "\n",
      "[5 rows x 3446 columns]\n"
     ]
    }
   ],
   "source": [
    "#Ici on isole le nom des joueurs de l'url de leur compte\n",
    "\n",
    "train_df[train_df.columns[0]] = train_df[train_df.columns[0]].astype(str)\n",
    "train_df[train_df.columns[0]] = train_df[train_df.columns[0]].str.split('/').str[-2]\n",
    "print(train_df.head())\n",
    "print(test_df.head())"
   ]
  },
  {
   "cell_type": "code",
   "execution_count": 27,
   "metadata": {},
   "outputs": [
    {
     "name": "stdout",
     "output_type": "stream",
     "text": [
      "        nom action 1 action 2 action 3 action 4 action 5 action 6 action 7  \\\n",
      "0  Stardust  Protoss        s     Base        s        s     Base        s   \n",
      "1     First  Protoss     Base        s        s        s     Base        s   \n",
      "2  Stardust  Protoss     Base        s        s     Base        s        s   \n",
      "3     First  Protoss     Base        s        s        s     Base        s   \n",
      "4  Stardust  Protoss        s     Base        s        s     Base        s   \n",
      "\n",
      "   action 8  action 9  ... action 2555 action 2556 action 2557 action 2558  \\\n",
      "0         s      Base  ...     unknown     unknown     unknown     unknown   \n",
      "1  hotkey30  hotkey00  ...     unknown     unknown     unknown     unknown   \n",
      "2         s        t5  ...     unknown     unknown     unknown     unknown   \n",
      "3  hotkey30  hotkey00  ...     unknown     unknown     unknown     unknown   \n",
      "4  hotkey30         s  ...     unknown     unknown     unknown     unknown   \n",
      "\n",
      "  action 2559 action 2560 action 2561 action 2562 action 2563 action 2564  \n",
      "0     unknown     unknown     unknown     unknown     unknown     unknown  \n",
      "1     unknown     unknown     unknown     unknown     unknown     unknown  \n",
      "2     unknown     unknown     unknown     unknown     unknown     unknown  \n",
      "3     unknown     unknown     unknown     unknown     unknown     unknown  \n",
      "4     unknown     unknown     unknown     unknown     unknown     unknown  \n",
      "\n",
      "[5 rows x 2565 columns]\n",
      "       nom action 1  action 2  action 3  action 4  action 5  action 6  \\\n",
      "0   Terran        s  hotkey30  hotkey00        t5         s  hotkey32   \n",
      "1     Zerg        s         s         s         s  hotkey20         s   \n",
      "2  Protoss     Base         s         s      Base         s  hotkey50   \n",
      "3  Protoss     Base         s         s         s      Base         s   \n",
      "4     Zerg        s         s         s  hotkey20         s  hotkey10   \n",
      "\n",
      "   action 7  action 8  action 9  ... action 3436 action 3437 action 3438  \\\n",
      "0         s  hotkey32         s  ...     unknown     unknown     unknown   \n",
      "1  hotkey40        t5       t10  ...     unknown     unknown     unknown   \n",
      "2  hotkey30        t5  hotkey40  ...     unknown     unknown     unknown   \n",
      "3  hotkey30  hotkey00        t5  ...     unknown     unknown     unknown   \n",
      "4        t5         s         s  ...     unknown     unknown     unknown   \n",
      "\n",
      "  action 3439 action 3440 action 3441 action 3442 action 3443 action 3444  \\\n",
      "0     unknown     unknown     unknown     unknown     unknown     unknown   \n",
      "1     unknown     unknown     unknown     unknown     unknown     unknown   \n",
      "2     unknown     unknown     unknown     unknown     unknown     unknown   \n",
      "3     unknown     unknown     unknown     unknown     unknown     unknown   \n",
      "4     unknown     unknown     unknown     unknown     unknown     unknown   \n",
      "\n",
      "  action 3445  \n",
      "0     unknown  \n",
      "1     unknown  \n",
      "2     unknown  \n",
      "3     unknown  \n",
      "4     unknown  \n",
      "\n",
      "[5 rows x 3446 columns]\n"
     ]
    }
   ],
   "source": [
    "#Ici on remplit les NaN par unkown (pour par la suite pouvoir faire un masquage)\n",
    "train_df = train_df.fillna('unknown')\n",
    "test_df = test_df.fillna('unknown')\n",
    "print(train_df.head())\n",
    "print(test_df.head())"
   ]
  },
  {
   "cell_type": "code",
   "execution_count": 28,
   "metadata": {},
   "outputs": [],
   "source": [
    "# Convertir toutes les colonnes de touches en chaînes de caractères\n",
    "train_df = train_df.astype(str)\n",
    "test_df = test_df.astype(str)\n"
   ]
  },
  {
   "cell_type": "code",
   "execution_count": 29,
   "metadata": {},
   "outputs": [],
   "source": [
    "# Initialiser le label encoder pour les touches pour que le model puisse utiliser ces valeurs pour s'entrainer\n",
    "touch_encoder = LabelEncoder()\n",
    "\n",
    "# Concatenater les données d'entraînement et de test pour s'assurer que l'encodage est cohérent\n",
    "all_touches = pd.concat([train_df.drop(columns=['nom']), test_df.drop(columns=['nom'])], axis=0).stack().unique()\n",
    "touch_encoder.fit(all_touches)\n",
    "\n",
    "# Encoder les touches dans les DataFrames\n",
    "for column in train_df.columns[1:]:\n",
    "    train_df[column] = touch_encoder.transform(train_df[column])\n",
    "for column in test_df.columns[1:]:\n",
    "    test_df[column] = touch_encoder.transform(test_df[column])\n",
    "\n",
    "# Initialiser le label encoder pour les noms\n",
    "name_encoder = LabelEncoder()\n",
    "\n",
    "# Concatenater les noms des jeux d'entraînement et de test pour s'assurer que l'encodage est cohérent\n",
    "all_names = pd.concat([train_df['nom'], test_df['nom']], axis=0).unique()\n",
    "name_encoder.fit(all_names)\n",
    "\n",
    "# Encoder les noms en valeurs numériques dans les jeux de données d'entraînement et de test\n",
    "y_train = name_encoder.transform(train_df['nom'])\n",
    "y_test = name_encoder.transform(test_df['nom'])\n"
   ]
  },
  {
   "cell_type": "code",
   "execution_count": 30,
   "metadata": {},
   "outputs": [],
   "source": [
    "# Vérifier que toutes les classes sont bien encodées\n",
    "num_classes = len(name_encoder.classes_)\n",
    "assert len(np.unique(y_train)) <= num_classes\n",
    "assert len(np.unique(y_test)) <= num_classes\n"
   ]
  },
  {
   "cell_type": "code",
   "execution_count": 31,
   "metadata": {},
   "outputs": [],
   "source": [
    "#supprime la colonne nom des X car c'est y que l'on veut predire (la colonne des noms)\n",
    "\n",
    "X_test = test_df.drop(columns=['nom']).values\n",
    "X_train = train_df.drop(columns=['nom']).values"
   ]
  },
  {
   "cell_type": "code",
   "execution_count": 32,
   "metadata": {},
   "outputs": [
    {
     "name": "stdout",
     "output_type": "stream",
     "text": [
      "(2236, 2564) (2236, 2564)\n",
      "(264, 2564) (264, 2564)\n"
     ]
    }
   ],
   "source": [
    "\n",
    "import pandas as pd\n",
    "import numpy as np\n",
    "import tensorflow as tf\n",
    "from tensorflow.keras.preprocessing.sequence import pad_sequences\n",
    "from tensorflow.keras.utils import to_categorical\n",
    "\n",
    "# Définir la longueur maximale des séquences\n",
    "max_length = 2564  \n",
    "\n",
    "# Remplir les séquences pour qu'elles aient la même longueur\n",
    "# Ici, nous utilisons la valeur encodée de 'unknown' comme valeur de remplissage pour le masque \n",
    "unknown_value = touch_encoder.transform(['unknown'])[0]\n",
    "X_train_padded = pad_sequences(X_train, maxlen=max_length, padding='post', truncating='post', value=unknown_value)\n",
    "X_test_padded = pad_sequences(X_test, maxlen=max_length, padding='post', truncating='post', value=unknown_value)\n",
    "\n",
    "# Créer des masques\n",
    "train_masks = np.array([[1 if token != unknown_value else 0 for token in seq] for seq in X_train_padded])\n",
    "test_masks = np.array([[1 if token != unknown_value else 0 for token in seq] for seq in X_test_padded])\n",
    "\n",
    "# Vérifier les formes des données\n",
    "print(X_train_padded.shape, train_masks.shape)\n",
    "print(X_test_padded.shape, test_masks.shape)"
   ]
  },
  {
   "cell_type": "code",
   "execution_count": 33,
   "metadata": {},
   "outputs": [],
   "source": [
    "# Vérifier que toutes les classes sont bien encodées\n",
    "num_classes = len(name_encoder.classes_)\n",
    "assert len(np.unique(y_train)) <= num_classes\n",
    "assert len(np.unique(y_test)) <= num_classes\n",
    "\n",
    "# Convertir les étiquettes en one-hot encoding\n",
    "y_train_one_hot = to_categorical(y_train, num_classes=num_classes)\n",
    "y_test_one_hot = to_categorical(y_test, num_classes=num_classes)\n"
   ]
  },
  {
   "cell_type": "code",
   "execution_count": 34,
   "metadata": {},
   "outputs": [
    {
     "name": "stdout",
     "output_type": "stream",
     "text": [
      "Model: \"model_1\"\n",
      "_________________________________________________________________\n",
      " Layer (type)                Output Shape              Param #   \n",
      "=================================================================\n",
      " input_2 (InputLayer)        [(None, 2564)]            0         \n",
      "                                                                 \n",
      " reshape_1 (Reshape)         (None, 2564, 1)           0         \n",
      "                                                                 \n",
      " masking_1 (Masking)         (None, 2564, 1)           0         \n",
      "                                                                 \n",
      " lstm_2 (LSTM)               (None, 2564, 64)          16896     \n",
      "                                                                 \n",
      " batch_normalization_2 (Bat  (None, 2564, 64)          256       \n",
      " chNormalization)                                                \n",
      "                                                                 \n",
      " dropout_2 (Dropout)         (None, 2564, 64)          0         \n",
      "                                                                 \n",
      " lstm_3 (LSTM)               (None, 64)                33024     \n",
      "                                                                 \n",
      " batch_normalization_3 (Bat  (None, 64)                256       \n",
      " chNormalization)                                                \n",
      "                                                                 \n",
      " dropout_3 (Dropout)         (None, 64)                0         \n",
      "                                                                 \n",
      " dense_1 (Dense)             (None, 179)               11635     \n",
      "                                                                 \n",
      "=================================================================\n",
      "Total params: 62067 (242.45 KB)\n",
      "Trainable params: 61811 (241.45 KB)\n",
      "Non-trainable params: 256 (1.00 KB)\n",
      "_________________________________________________________________\n"
     ]
    }
   ],
   "source": [
    "from tensorflow.keras.models import Model\n",
    "from tensorflow.keras.layers import Input, LSTM, Dense, Masking, Reshape, Dropout, BatchNormalization\n",
    "\n",
    "# Définir les entrées du modèle\n",
    "input_seq = Input(shape=(max_length,))\n",
    "# Ajouter une dimension supplémentaire\n",
    "reshaped_input = Reshape((max_length, 1))(input_seq)\n",
    "\n",
    "# Appliquer le masquage\n",
    "masking_layer = Masking(mask_value=unknown_value)(reshaped_input)\n",
    "\n",
    "# Ajout des couches LSTM\n",
    "lstm_layer = LSTM(64, return_sequences=True)(masking_layer)\n",
    "lstm_layer = BatchNormalization()(lstm_layer)\n",
    "lstm_layer = Dropout(0.5)(lstm_layer)\n",
    "lstm_layer = LSTM(64, return_sequences=False)(lstm_layer)\n",
    "lstm_layer = BatchNormalization()(lstm_layer)\n",
    "lstm_layer = Dropout(0.5)(lstm_layer)\n",
    "\n",
    "# Ajouter une couche dense pour les prédictions\n",
    "output = Dense(num_classes, activation='softmax')(lstm_layer)\n",
    "\n",
    "# Créer le modèle\n",
    "model = Model(inputs=input_seq, outputs=output)\n",
    "\n",
    "# Compiler le modèle\n",
    "model.compile(optimizer='adam', loss='categorical_crossentropy', metrics=['accuracy'])\n",
    "\n",
    "# Afficher le résumé du modèle\n",
    "model.summary()"
   ]
  },
  {
   "cell_type": "code",
   "execution_count": 35,
   "metadata": {},
   "outputs": [],
   "source": [
    "from tensorflow.keras.optimizers import Adam\n",
    "\n",
    "# Utiliser un optimiseur avec un taux d'apprentissage ajusté\n",
    "optimizer = Adam(learning_rate=0.001)\n",
    "\n",
    "# Compiler le modèle avec l'optimiseur ajusté\n",
    "model.compile(optimizer=optimizer, loss='categorical_crossentropy', metrics=['accuracy'])\n"
   ]
  },
  {
   "cell_type": "code",
   "execution_count": 36,
   "metadata": {},
   "outputs": [],
   "source": [
    "import numpy as np\n",
    "from sklearn.utils.class_weight import compute_class_weight\n",
    "\n",
    "# Calculer les poids de classe\n",
    "class_weights = compute_class_weight('balanced', classes=np.unique(y_train), y=y_train)\n",
    "\n",
    "# Convertir les poids de classe en un dictionnaire\n",
    "class_weight_dict = dict(enumerate(class_weights))\n"
   ]
  },
  {
   "cell_type": "code",
   "execution_count": 37,
   "metadata": {},
   "outputs": [
    {
     "name": "stdout",
     "output_type": "stream",
     "text": [
      "2236\n",
      "2236\n"
     ]
    }
   ],
   "source": [
    "print(len(X_train))\n",
    "print(len(y_train))"
   ]
  },
  {
   "cell_type": "code",
   "execution_count": 38,
   "metadata": {},
   "outputs": [
    {
     "name": "stdout",
     "output_type": "stream",
     "text": [
      "TensorFlow Version: 2.14.0\n",
      "Num GPUs Available:  0\n",
      "TensorFlow is not using the GPU\n"
     ]
    }
   ],
   "source": [
    "import tensorflow as tf\n",
    "\n",
    "# Print TensorFlow version\n",
    "print(\"TensorFlow Version:\", tf.__version__)\n",
    "\n",
    "# Check if GPU is available\n",
    "gpus = tf.config.list_physical_devices('GPU')\n",
    "if gpus:\n",
    "    print(\"Num GPUs Available: \", len(gpus))\n",
    "    print(\"TensorFlow is using the GPU\")\n",
    "else:\n",
    "    print(\"Num GPUs Available: \", 0)\n",
    "    print(\"TensorFlow is not using the GPU\")\n",
    "\n",
    "\n",
    "#Je n'ai pas les bonnes versions de cuda et cudnn, elles ne sont pas compatible avec tensor flow j'ai donc laissée tomber l'idée d'utiliser le gpu \n"
   ]
  },
  {
   "cell_type": "code",
   "execution_count": 39,
   "metadata": {},
   "outputs": [
    {
     "name": "stdout",
     "output_type": "stream",
     "text": [
      "Epoch 1/100\n",
      "56/56 [==============================] - 225s 4s/step - loss: 5.5260 - accuracy: 0.0095 - val_loss: 5.2154 - val_accuracy: 0.0022\n",
      "Epoch 2/100\n",
      "56/56 [==============================] - 232s 4s/step - loss: 5.2398 - accuracy: 0.0123 - val_loss: 5.1767 - val_accuracy: 0.0045\n",
      "Epoch 3/100\n",
      "56/56 [==============================] - 221s 4s/step - loss: 5.0754 - accuracy: 0.0280 - val_loss: 5.1447 - val_accuracy: 0.0112\n",
      "Epoch 4/100\n",
      "56/56 [==============================] - 233s 4s/step - loss: 4.8775 - accuracy: 0.0391 - val_loss: 5.0835 - val_accuracy: 0.0045\n",
      "Epoch 5/100\n",
      "56/56 [==============================] - 236s 4s/step - loss: 4.7398 - accuracy: 0.0403 - val_loss: 4.9796 - val_accuracy: 0.0156\n",
      "Epoch 6/100\n",
      "56/56 [==============================] - 232s 4s/step - loss: 4.6018 - accuracy: 0.0498 - val_loss: 4.9030 - val_accuracy: 0.0268\n",
      "Epoch 7/100\n",
      "56/56 [==============================] - 239s 4s/step - loss: 4.4270 - accuracy: 0.0660 - val_loss: 5.1129 - val_accuracy: 0.0268\n",
      "Epoch 8/100\n",
      "56/56 [==============================] - 256s 5s/step - loss: 4.3122 - accuracy: 0.0738 - val_loss: 5.1565 - val_accuracy: 0.0424\n",
      "Epoch 9/100\n",
      "56/56 [==============================] - 240s 4s/step - loss: 4.1753 - accuracy: 0.0956 - val_loss: 4.8561 - val_accuracy: 0.0469\n",
      "Epoch 10/100\n",
      "56/56 [==============================] - 254s 5s/step - loss: 4.0685 - accuracy: 0.0979 - val_loss: 4.8301 - val_accuracy: 0.0424\n",
      "Epoch 11/100\n",
      "56/56 [==============================] - 245s 4s/step - loss: 4.0428 - accuracy: 0.0962 - val_loss: 4.8012 - val_accuracy: 0.0625\n",
      "Epoch 12/100\n",
      "56/56 [==============================] - 244s 4s/step - loss: 3.9703 - accuracy: 0.1057 - val_loss: 4.9552 - val_accuracy: 0.0312\n",
      "Epoch 13/100\n",
      "56/56 [==============================] - 242s 4s/step - loss: 3.8935 - accuracy: 0.1029 - val_loss: 5.0111 - val_accuracy: 0.0558\n",
      "Epoch 14/100\n",
      "56/56 [==============================] - 243s 4s/step - loss: 3.7952 - accuracy: 0.1225 - val_loss: 5.2013 - val_accuracy: 0.0134\n",
      "Epoch 15/100\n",
      "56/56 [==============================] - 261s 5s/step - loss: 3.7183 - accuracy: 0.1186 - val_loss: 5.9523 - val_accuracy: 0.0022\n",
      "Epoch 16/100\n",
      "56/56 [==============================] - 273s 5s/step - loss: 3.7224 - accuracy: 0.1314 - val_loss: 5.8307 - val_accuracy: 0.0201\n",
      "Epoch 17/100\n",
      "56/56 [==============================] - 286s 5s/step - loss: 3.6351 - accuracy: 0.1443 - val_loss: 5.4916 - val_accuracy: 0.0513\n",
      "Epoch 18/100\n",
      "56/56 [==============================] - 242s 4s/step - loss: 3.5366 - accuracy: 0.1560 - val_loss: 4.9967 - val_accuracy: 0.0089\n",
      "Epoch 19/100\n",
      "56/56 [==============================] - 238s 4s/step - loss: 3.4591 - accuracy: 0.1611 - val_loss: 4.4592 - val_accuracy: 0.0580\n",
      "Epoch 20/100\n",
      "56/56 [==============================] - 237s 4s/step - loss: 3.3632 - accuracy: 0.1795 - val_loss: 4.5470 - val_accuracy: 0.0625\n",
      "Epoch 21/100\n",
      "56/56 [==============================] - 238s 4s/step - loss: 3.2968 - accuracy: 0.1851 - val_loss: 4.9051 - val_accuracy: 0.0268\n",
      "Epoch 22/100\n",
      "56/56 [==============================] - 234s 4s/step - loss: 3.2265 - accuracy: 0.2008 - val_loss: 5.5740 - val_accuracy: 0.0067\n",
      "Epoch 23/100\n",
      "56/56 [==============================] - 234s 4s/step - loss: 3.2972 - accuracy: 0.1840 - val_loss: 4.3534 - val_accuracy: 0.0871\n",
      "Epoch 24/100\n",
      "56/56 [==============================] - 235s 4s/step - loss: 3.1034 - accuracy: 0.2136 - val_loss: 4.5521 - val_accuracy: 0.0893\n",
      "Epoch 25/100\n",
      "56/56 [==============================] - 235s 4s/step - loss: 3.0683 - accuracy: 0.2315 - val_loss: 5.4084 - val_accuracy: 0.0179\n",
      "Epoch 26/100\n",
      "56/56 [==============================] - 235s 4s/step - loss: 3.0187 - accuracy: 0.2315 - val_loss: 4.9537 - val_accuracy: 0.0737\n",
      "Epoch 27/100\n",
      "56/56 [==============================] - 1040s 19s/step - loss: 2.9272 - accuracy: 0.2517 - val_loss: 4.3499 - val_accuracy: 0.1295\n",
      "Epoch 28/100\n",
      "56/56 [==============================] - 256s 5s/step - loss: 2.9033 - accuracy: 0.2584 - val_loss: 4.5697 - val_accuracy: 0.0692\n",
      "Epoch 29/100\n",
      "56/56 [==============================] - 248s 4s/step - loss: 2.8176 - accuracy: 0.2707 - val_loss: 4.2679 - val_accuracy: 0.1272\n",
      "Epoch 30/100\n",
      "56/56 [==============================] - 239s 4s/step - loss: 2.7032 - accuracy: 0.2869 - val_loss: 5.0555 - val_accuracy: 0.0513\n",
      "Epoch 31/100\n",
      "56/56 [==============================] - 238s 4s/step - loss: 2.7486 - accuracy: 0.2886 - val_loss: 4.5390 - val_accuracy: 0.1138\n",
      "Epoch 32/100\n",
      "56/56 [==============================] - 247s 4s/step - loss: 2.6149 - accuracy: 0.3199 - val_loss: 5.3424 - val_accuracy: 0.0915\n",
      "Epoch 33/100\n",
      "56/56 [==============================] - 235s 4s/step - loss: 2.6735 - accuracy: 0.2908 - val_loss: 4.2401 - val_accuracy: 0.1384\n",
      "Epoch 34/100\n",
      "56/56 [==============================] - 235s 4s/step - loss: 2.5287 - accuracy: 0.3356 - val_loss: 5.2887 - val_accuracy: 0.0469\n",
      "Epoch 35/100\n",
      "56/56 [==============================] - 235s 4s/step - loss: 2.4826 - accuracy: 0.3289 - val_loss: 5.1737 - val_accuracy: 0.0737\n",
      "Epoch 36/100\n",
      "56/56 [==============================] - 234s 4s/step - loss: 2.4758 - accuracy: 0.3440 - val_loss: 4.7301 - val_accuracy: 0.1049\n",
      "Epoch 37/100\n",
      "56/56 [==============================] - 236s 4s/step - loss: 2.3232 - accuracy: 0.3730 - val_loss: 4.2644 - val_accuracy: 0.1719\n",
      "Epoch 38/100\n",
      "56/56 [==============================] - 4209s 76s/step - loss: 2.3713 - accuracy: 0.3602 - val_loss: 4.5143 - val_accuracy: 0.0960\n",
      "Epoch 39/100\n",
      "56/56 [==============================] - 260s 5s/step - loss: 2.2871 - accuracy: 0.3809 - val_loss: 4.0647 - val_accuracy: 0.2009\n",
      "Epoch 40/100\n",
      "56/56 [==============================] - 239s 4s/step - loss: 2.2391 - accuracy: 0.3876 - val_loss: 4.3300 - val_accuracy: 0.1741\n",
      "Epoch 41/100\n",
      "56/56 [==============================] - 240s 4s/step - loss: 2.1404 - accuracy: 0.4094 - val_loss: 3.9765 - val_accuracy: 0.2299\n",
      "Epoch 42/100\n",
      "56/56 [==============================] - 242s 4s/step - loss: 2.1472 - accuracy: 0.4066 - val_loss: 4.4895 - val_accuracy: 0.1786\n",
      "Epoch 43/100\n",
      "56/56 [==============================] - 239s 4s/step - loss: 2.0716 - accuracy: 0.4223 - val_loss: 4.8751 - val_accuracy: 0.1362\n",
      "Epoch 44/100\n",
      "56/56 [==============================] - 235s 4s/step - loss: 2.1716 - accuracy: 0.3977 - val_loss: 5.2050 - val_accuracy: 0.0536\n",
      "Epoch 45/100\n",
      "56/56 [==============================] - 236s 4s/step - loss: 2.0757 - accuracy: 0.4273 - val_loss: 4.9218 - val_accuracy: 0.1429\n",
      "Epoch 46/100\n",
      "56/56 [==============================] - 235s 4s/step - loss: 2.0330 - accuracy: 0.4195 - val_loss: 4.1765 - val_accuracy: 0.1987\n",
      "Epoch 47/100\n",
      "56/56 [==============================] - 235s 4s/step - loss: 2.0140 - accuracy: 0.4430 - val_loss: 4.7342 - val_accuracy: 0.1585\n",
      "Epoch 48/100\n",
      "56/56 [==============================] - 1181s 21s/step - loss: 1.9287 - accuracy: 0.4469 - val_loss: 4.2440 - val_accuracy: 0.2254\n",
      "Epoch 49/100\n",
      "56/56 [==============================] - 245s 4s/step - loss: 1.9333 - accuracy: 0.4631 - val_loss: 4.7435 - val_accuracy: 0.1406\n",
      "Epoch 50/100\n",
      "56/56 [==============================] - 240s 4s/step - loss: 1.8634 - accuracy: 0.4698 - val_loss: 5.3423 - val_accuracy: 0.1071\n",
      "Epoch 51/100\n",
      "56/56 [==============================] - 243s 4s/step - loss: 1.8913 - accuracy: 0.4614 - val_loss: 4.6845 - val_accuracy: 0.1451\n",
      "Epoch 52/100\n",
      "56/56 [==============================] - 241s 4s/step - loss: 1.8275 - accuracy: 0.4855 - val_loss: 4.0299 - val_accuracy: 0.2768\n",
      "Epoch 53/100\n",
      "56/56 [==============================] - 237s 4s/step - loss: 1.8468 - accuracy: 0.4592 - val_loss: 4.4487 - val_accuracy: 0.1719\n",
      "Epoch 54/100\n",
      "56/56 [==============================] - 236s 4s/step - loss: 1.8868 - accuracy: 0.4597 - val_loss: 4.0551 - val_accuracy: 0.2679\n",
      "Epoch 55/100\n",
      "56/56 [==============================] - 236s 4s/step - loss: 1.8725 - accuracy: 0.4586 - val_loss: 4.3247 - val_accuracy: 0.2031\n",
      "Epoch 56/100\n",
      "56/56 [==============================] - 236s 4s/step - loss: 1.7417 - accuracy: 0.4972 - val_loss: 4.7316 - val_accuracy: 0.1719\n",
      "Epoch 57/100\n",
      "56/56 [==============================] - 1253s 23s/step - loss: 1.7127 - accuracy: 0.5067 - val_loss: 4.0484 - val_accuracy: 0.2277\n",
      "Epoch 58/100\n",
      "56/56 [==============================] - 243s 4s/step - loss: 1.6890 - accuracy: 0.5151 - val_loss: 4.5373 - val_accuracy: 0.2210\n",
      "Epoch 59/100\n",
      "56/56 [==============================] - 242s 4s/step - loss: 1.6282 - accuracy: 0.5302 - val_loss: 4.1389 - val_accuracy: 0.2857\n",
      "Epoch 60/100\n",
      "56/56 [==============================] - 243s 4s/step - loss: 1.5674 - accuracy: 0.5459 - val_loss: 4.3097 - val_accuracy: 0.2366\n",
      "Epoch 61/100\n",
      "56/56 [==============================] - 239s 4s/step - loss: 1.5490 - accuracy: 0.5593 - val_loss: 4.1853 - val_accuracy: 0.2589\n",
      "Epoch 62/100\n",
      "56/56 [==============================] - 236s 4s/step - loss: 1.5582 - accuracy: 0.5487 - val_loss: 4.3490 - val_accuracy: 0.2411\n",
      "Epoch 63/100\n",
      "56/56 [==============================] - 234s 4s/step - loss: 1.7824 - accuracy: 0.4961 - val_loss: 4.0058 - val_accuracy: 0.3080\n",
      "Epoch 64/100\n",
      "56/56 [==============================] - 235s 4s/step - loss: 1.6151 - accuracy: 0.5313 - val_loss: 5.3212 - val_accuracy: 0.1473\n",
      "Epoch 65/100\n",
      "56/56 [==============================] - 243s 4s/step - loss: 1.5481 - accuracy: 0.5492 - val_loss: 4.5615 - val_accuracy: 0.2321\n",
      "Epoch 66/100\n",
      "56/56 [==============================] - 242s 4s/step - loss: 1.4643 - accuracy: 0.5593 - val_loss: 4.2082 - val_accuracy: 0.2812\n",
      "Epoch 67/100\n",
      "56/56 [==============================] - 241s 4s/step - loss: 1.4853 - accuracy: 0.5582 - val_loss: 4.1375 - val_accuracy: 0.3147\n",
      "Epoch 68/100\n",
      "56/56 [==============================] - 241s 4s/step - loss: 1.4581 - accuracy: 0.5744 - val_loss: 3.9143 - val_accuracy: 0.3281\n",
      "Epoch 69/100\n",
      "56/56 [==============================] - 241s 4s/step - loss: 1.4618 - accuracy: 0.5744 - val_loss: 4.3126 - val_accuracy: 0.2723\n",
      "Epoch 70/100\n",
      "56/56 [==============================] - 236s 4s/step - loss: 1.4141 - accuracy: 0.5973 - val_loss: 3.9435 - val_accuracy: 0.2946\n",
      "Epoch 71/100\n",
      "56/56 [==============================] - 234s 4s/step - loss: 1.3675 - accuracy: 0.5845 - val_loss: 4.3420 - val_accuracy: 0.2612\n",
      "Epoch 72/100\n",
      "56/56 [==============================] - 236s 4s/step - loss: 1.4853 - accuracy: 0.5621 - val_loss: 3.7965 - val_accuracy: 0.3304\n",
      "Epoch 73/100\n",
      "56/56 [==============================] - 236s 4s/step - loss: 1.3628 - accuracy: 0.5945 - val_loss: 4.8854 - val_accuracy: 0.1741\n",
      "Epoch 74/100\n",
      "56/56 [==============================] - 255s 5s/step - loss: 1.2728 - accuracy: 0.6035 - val_loss: 4.0474 - val_accuracy: 0.3058\n",
      "Epoch 75/100\n",
      "56/56 [==============================] - 248s 4s/step - loss: 1.3315 - accuracy: 0.6158 - val_loss: 4.4735 - val_accuracy: 0.2232\n",
      "Epoch 76/100\n",
      "56/56 [==============================] - 240s 4s/step - loss: 1.2746 - accuracy: 0.6242 - val_loss: 4.1861 - val_accuracy: 0.2879\n",
      "Epoch 77/100\n",
      "56/56 [==============================] - 241s 4s/step - loss: 1.2655 - accuracy: 0.6208 - val_loss: 5.3190 - val_accuracy: 0.1964\n",
      "Epoch 78/100\n",
      "56/56 [==============================] - 239s 4s/step - loss: 1.2354 - accuracy: 0.6236 - val_loss: 3.6817 - val_accuracy: 0.3817\n",
      "Epoch 79/100\n",
      "56/56 [==============================] - 236s 4s/step - loss: 1.1960 - accuracy: 0.6326 - val_loss: 4.2757 - val_accuracy: 0.3125\n",
      "Epoch 80/100\n",
      "56/56 [==============================] - 235s 4s/step - loss: 1.2144 - accuracy: 0.6264 - val_loss: 4.2813 - val_accuracy: 0.3080\n",
      "Epoch 81/100\n",
      "56/56 [==============================] - 235s 4s/step - loss: 1.2079 - accuracy: 0.6353 - val_loss: 4.3217 - val_accuracy: 0.3080\n",
      "Epoch 82/100\n",
      "56/56 [==============================] - 238s 4s/step - loss: 1.1963 - accuracy: 0.6477 - val_loss: 4.2475 - val_accuracy: 0.3237\n",
      "Epoch 83/100\n",
      "56/56 [==============================] - 241s 4s/step - loss: 1.2734 - accuracy: 0.6124 - val_loss: 4.4082 - val_accuracy: 0.2835\n",
      "Epoch 84/100\n",
      "56/56 [==============================] - 239s 4s/step - loss: 1.2502 - accuracy: 0.6135 - val_loss: 4.4753 - val_accuracy: 0.2790\n",
      "Epoch 85/100\n",
      "56/56 [==============================] - 235s 4s/step - loss: 1.1788 - accuracy: 0.6387 - val_loss: 4.7021 - val_accuracy: 0.2768\n",
      "Epoch 86/100\n",
      "56/56 [==============================] - 235s 4s/step - loss: 1.2328 - accuracy: 0.6298 - val_loss: 5.4754 - val_accuracy: 0.1518\n",
      "Epoch 87/100\n",
      "56/56 [==============================] - 235s 4s/step - loss: 1.2960 - accuracy: 0.6079 - val_loss: 4.3526 - val_accuracy: 0.2946\n",
      "Epoch 88/100\n",
      "56/56 [==============================] - 235s 4s/step - loss: 1.2205 - accuracy: 0.6303 - val_loss: 4.2179 - val_accuracy: 0.3058\n",
      "Epoch 89/100\n",
      "56/56 [==============================] - 235s 4s/step - loss: 1.1466 - accuracy: 0.6633 - val_loss: 4.2120 - val_accuracy: 0.3393\n",
      "Epoch 90/100\n",
      "56/56 [==============================] - 1346s 24s/step - loss: 1.0733 - accuracy: 0.6672 - val_loss: 4.2344 - val_accuracy: 0.3170\n",
      "Epoch 91/100\n",
      "56/56 [==============================] - 238s 4s/step - loss: 1.0402 - accuracy: 0.6812 - val_loss: 4.0143 - val_accuracy: 0.3616\n",
      "Epoch 92/100\n",
      "56/56 [==============================] - 237s 4s/step - loss: 1.1368 - accuracy: 0.6616 - val_loss: 4.2906 - val_accuracy: 0.3214\n",
      "Epoch 93/100\n",
      "56/56 [==============================] - 236s 4s/step - loss: 1.0876 - accuracy: 0.6628 - val_loss: 3.9189 - val_accuracy: 0.3750\n",
      "Epoch 94/100\n",
      "56/56 [==============================] - 233s 4s/step - loss: 1.2027 - accuracy: 0.6437 - val_loss: 4.2773 - val_accuracy: 0.3058\n",
      "Epoch 95/100\n",
      "56/56 [==============================] - 233s 4s/step - loss: 1.0846 - accuracy: 0.6790 - val_loss: 4.0905 - val_accuracy: 0.3438\n",
      "Epoch 96/100\n",
      "56/56 [==============================] - 232s 4s/step - loss: 1.0262 - accuracy: 0.6812 - val_loss: 4.0883 - val_accuracy: 0.3281\n",
      "Epoch 97/100\n",
      "56/56 [==============================] - 232s 4s/step - loss: 1.0467 - accuracy: 0.6890 - val_loss: 4.2776 - val_accuracy: 0.3192\n",
      "Epoch 98/100\n",
      "56/56 [==============================] - 23922s 435s/step - loss: 1.0289 - accuracy: 0.6840 - val_loss: 3.9005 - val_accuracy: 0.3996\n",
      "Epoch 99/100\n",
      "56/56 [==============================] - 314s 6s/step - loss: 0.9957 - accuracy: 0.6857 - val_loss: 4.0993 - val_accuracy: 0.3795\n",
      "Epoch 100/100\n",
      "56/56 [==============================] - 249s 4s/step - loss: 1.0292 - accuracy: 0.6806 - val_loss: 4.3370 - val_accuracy: 0.3013\n"
     ]
    }
   ],
   "source": [
    "# Entraîner le modèle \n",
    "history = model.fit(\n",
    "    # X_train,\n",
    "    # y_train,\n",
    "    X_train_padded, \n",
    "    y_train_one_hot, \n",
    "    epochs=100, \n",
    "    batch_size=32, \n",
    "    validation_split=0.2, \n",
    "    # class_weight=class_weight_dict\n",
    ")\n"
   ]
  },
  {
   "cell_type": "code",
   "execution_count": 41,
   "metadata": {},
   "outputs": [
    {
     "name": "stdout",
     "output_type": "stream",
     "text": [
      "9/9 [==============================] - 13s 1s/step\n",
      "Submission file saved to C:\\Users\\Jean\\Documents\\EIGSI\\4a\\Python for datascience\\PROJET STARCRAFT\\submission.csv\n"
     ]
    }
   ],
   "source": [
    "output_path = r'C:\\Users\\Jean\\Documents\\EIGSI\\4a\\Python for datascience\\PROJET STARCRAFT\\submission.csv'\n",
    "\n",
    "def make_predictions_and_save(model, X_test, label_encoder, output_path):\n",
    "    y_pred = model.predict(X_test_padded)\n",
    "    y_pred_labels = label_encoder.inverse_transform(np.argmax(y_pred, axis=1))\n",
    "    \n",
    "    submission_df = pd.DataFrame({\n",
    "        'RowId': range(len(y_pred_labels)),  \n",
    "        'Prediction': y_pred_labels\n",
    "    })\n",
    "    \n",
    "    submission_df.to_csv(output_path, index=False)\n",
    "    print(f\"Submission file saved to {output_path}\")\n",
    "\n",
    "make_predictions_and_save(model, X_test_padded, name_encoder, output_path)"
   ]
  },
  {
   "cell_type": "code",
   "execution_count": 44,
   "metadata": {},
   "outputs": [
    {
     "name": "stdout",
     "output_type": "stream",
     "text": [
      "264\n"
     ]
    }
   ],
   "source": [
    "print(len(y_pred))"
   ]
  },
  {
   "cell_type": "code",
   "execution_count": 46,
   "metadata": {},
   "outputs": [
    {
     "name": "stdout",
     "output_type": "stream",
     "text": [
      "9/9 [==============================] - 8s 852ms/step\n",
      "264\n"
     ]
    }
   ],
   "source": [
    "# Prédire les noms pour le jeu de test\n",
    "y_pred = model.predict(X_test_padded)\n",
    "\n",
    "# Convertir les prédictions en étiquettes de noms\n",
    "y_pred_labels = name_encoder.inverse_transform(np.argmax(y_pred, axis=1))\n",
    "\n",
    "# Afficher les prédictions\n",
    "print(len(y_pred_labels))"
   ]
  },
  {
   "cell_type": "code",
   "execution_count": 47,
   "metadata": {},
   "outputs": [
    {
     "name": "stdout",
     "output_type": "stream",
     "text": [
      "264\n"
     ]
    }
   ],
   "source": [
    "print(len(y_pred))"
   ]
  }
 ],
 "metadata": {
  "kernelspec": {
   "display_name": "Python 3",
   "language": "python",
   "name": "python3"
  },
  "language_info": {
   "codemirror_mode": {
    "name": "ipython",
    "version": 3
   },
   "file_extension": ".py",
   "mimetype": "text/x-python",
   "name": "python",
   "nbconvert_exporter": "python",
   "pygments_lexer": "ipython3",
   "version": "3.9.4"
  }
 },
 "nbformat": 4,
 "nbformat_minor": 2
}
